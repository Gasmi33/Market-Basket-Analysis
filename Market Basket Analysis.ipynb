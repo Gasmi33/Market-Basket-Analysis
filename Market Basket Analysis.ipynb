{
 "cells": [
  {
   "cell_type": "markdown",
   "id": "d43f076e",
   "metadata": {},
   "source": [
    "\n",
    "# RFM Analysis"
   ]
  },
  {
   "cell_type": "markdown",
   "id": "c6b11b70",
   "metadata": {},
   "source": [
    "RFM Analysis is a concept used by Data Science professionals, especially in the marketing domain for understanding and segmenting customers based on their buying behaviour.\n",
    "\n",
    "Using RFM Analysis, a business can assess customers’:\n",
    "\n",
    "- recency (the date they made their last purchase)\n",
    "- frequency (how often they make purchases)\n",
    "- and monetary value (the amount spent on purchases)\n",
    "Recency, Frequency, and Monetary value of a customer are three key metrics that provide information about customer engagement, loyalty, and value to a business."
   ]
  },
  {
   "cell_type": "code",
   "execution_count": null,
   "id": "796da156",
   "metadata": {},
   "outputs": [],
   "source": []
  }
 ],
 "metadata": {
  "kernelspec": {
   "display_name": "Python 3 (ipykernel)",
   "language": "python",
   "name": "python3"
  },
  "language_info": {
   "codemirror_mode": {
    "name": "ipython",
    "version": 3
   },
   "file_extension": ".py",
   "mimetype": "text/x-python",
   "name": "python",
   "nbconvert_exporter": "python",
   "pygments_lexer": "ipython3",
   "version": "3.9.7"
  }
 },
 "nbformat": 4,
 "nbformat_minor": 5
}
